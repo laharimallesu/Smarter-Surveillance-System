{
 "cells": [
  {
   "cell_type": "code",
   "execution_count": null,
   "id": "fe328e23-b652-4694-a63b-272e10183dd8",
   "metadata": {},
   "outputs": [],
   "source": [
    "\"\"\" This module contains the class VideoCamera, this classs provides us with\n",
    "automtic functions to turn on the camera, record and turn off the camera\n",
    "in the correct way.\n",
    "\"\"\"\n",
    "\n",
    "import cv2\n",
    "import os\n",
    "\n",
    "class VideoCamera(object):\n",
    "    \"\"\" A class to handle the video stream.\n",
    "    \"\"\"\n",
    "    def __init__(self):\n",
    "        self.video = cv2.VideoCapture(0)\n",
    "        self.video.set(3,320)\n",
    "        self.video.set(4,240)\n",
    "\n",
    "    def __del__(self):\n",
    "        self.video.release()\n",
    "\n",
    "    def get_frame(self, in_grayscale=False):\n",
    "        \"\"\" Get current frame of a live video.\n",
    "        \"\"\"\n",
    "        success , frame = self.video.read()\n",
    "\n",
    "        if in_grayscale:\n",
    "            frame = cv2.cvtColor(frame, cv2.COLOR_BGR2GRAY)\n",
    "\n",
    "        return frame\n",
    "\n",
    "    def show_frame(self, seconds, in_grayscale=False):\n",
    "        \"\"\" Show the frame of the live video.\n",
    "\n",
    "        This function will show the current frame of the live video during\n",
    "        the specified seconds. The frame is displayed in an external window.\n",
    "        It also captures the key pressed during the time the frame was shown.\n",
    "        This key can be used as an action indicator from the user.\n",
    "        \"\"\"\n",
    "        _, frame = self.video.read()\n",
    "        if in_grayscale:\n",
    "            frame = cv2.cvtColor(frame, cv2.COLOR_BGR2GRAY)\n",
    "        cv2.imshow('SnapShot', frame)\n",
    "        key_pressed = cv2.waitKey(seconds * 1000)\n",
    "\n",
    "        return key_pressed & 0xFF\n",
    "\n",
    "if __name__ == '__main__':\n",
    "    VC = VideoCamera()\n",
    "    while True:\n",
    "        KEY = VC.show_frame(1, True)\n",
    "        if KEY == 27:\n",
    "            break\n",
    "    VC.show_frame(1)\n",
    "\n"
   ]
  },
  {
   "cell_type": "code",
   "execution_count": null,
   "id": "883b78f4-712a-451f-b8aa-d07d1e2db14f",
   "metadata": {},
   "outputs": [],
   "source": []
  }
 ],
 "metadata": {
  "kernelspec": {
   "display_name": "Python 3 (ipykernel)",
   "language": "python",
   "name": "python3"
  },
  "language_info": {
   "codemirror_mode": {
    "name": "ipython",
    "version": 3
   },
   "file_extension": ".py",
   "mimetype": "text/x-python",
   "name": "python",
   "nbconvert_exporter": "python",
   "pygments_lexer": "ipython3",
   "version": "3.11.7"
  }
 },
 "nbformat": 4,
 "nbformat_minor": 5
}
